{
 "cells": [
  {
   "cell_type": "code",
   "execution_count": 1,
   "id": "692b56d2",
   "metadata": {},
   "outputs": [],
   "source": [
    "import speech_recognition as sr"
   ]
  },
  {
   "cell_type": "code",
   "execution_count": 2,
   "id": "9587454d",
   "metadata": {},
   "outputs": [],
   "source": [
    "engine = sr.Recognizer()\n",
    "mic = sr.Microphone()\n",
    "hasil = \"\""
   ]
  },
  {
   "cell_type": "code",
   "execution_count": 3,
   "id": "dfe073a2",
   "metadata": {},
   "outputs": [],
   "source": [
    "engine.pause_treshold = 3"
   ]
  },
  {
   "cell_type": "code",
   "execution_count": 4,
   "id": "c3d45b58",
   "metadata": {},
   "outputs": [
    {
     "name": "stdout",
     "output_type": "stream",
     "text": [
      "Mulai bicara!\n",
      "Waktu habis!\n",
      "result2:\n",
      "{   'alternative': [   {'confidence': 0.96015972, 'transcript': '1234'},\n",
      "                       {'transcript': '1 2 3 4'},\n",
      "                       {'transcript': '12345'},\n",
      "                       {'transcript': 'satu dua tiga empat'}],\n",
      "    'final': True}\n",
      "1234\n"
     ]
    }
   ],
   "source": [
    "with mic as source:\n",
    "    print(\"Mulai bicara!\")\n",
    "    rekaman = engine.listen(source)\n",
    "    print(\"Waktu habis!\")\n",
    "    \n",
    "    try:\n",
    "        hasil = engine.recognize_google(rekaman, language = 'id-ID')\n",
    "        print(hasil)\n",
    "    except engine.UnknownValueError:\n",
    "        print(\"Tidak dapat dideteksi! Mohon coba lagi!\")\n",
    "    except Exception as e:\n",
    "        print(e)"
   ]
  }
 ],
 "metadata": {
  "kernelspec": {
   "display_name": "Python 3 (ipykernel)",
   "language": "python",
   "name": "python3"
  },
  "language_info": {
   "codemirror_mode": {
    "name": "ipython",
    "version": 3
   },
   "file_extension": ".py",
   "mimetype": "text/x-python",
   "name": "python",
   "nbconvert_exporter": "python",
   "pygments_lexer": "ipython3",
   "version": "3.11.1"
  }
 },
 "nbformat": 4,
 "nbformat_minor": 5
}
